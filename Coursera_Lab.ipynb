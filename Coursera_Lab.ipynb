{
 "cells": [
  {
   "metadata": {},
   "cell_type": "markdown",
   "source": "Data Science Tools and Ecosystem",
   "id": "de55c547d4f74508"
  },
  {
   "metadata": {},
   "cell_type": "markdown",
   "source": "In this notebook, Data Science Tools and Ecosystem are summarized.",
   "id": "776b1646c974490f"
  },
  {
   "metadata": {},
   "cell_type": "markdown",
   "source": [
    "Some of the more popular Data Science Languages are.\n",
    "1. Python\n",
    "2. R\n",
    "3. SQL\n",
    "4. Java"
   ],
   "id": "538ea2f5a4883cee"
  },
  {
   "metadata": {},
   "cell_type": "markdown",
   "source": [
    "Some of the commonly used libraries used by Data Scientists include:\n",
    "1. Pandas\n",
    "2. NumPy\n",
    "3. Scikit-learn\n",
    "4. MatPlotLib\n",
    "5. PyTorch"
   ],
   "id": "9a88d5564f315c24"
  },
  {
   "metadata": {},
   "cell_type": "markdown",
   "source": [
    "<table>\n",
    "<tr><th>Data Science Tools</th></tr>\n",
    "<tr><td>Python</td></tr>\n",
    "<tr><td>RStudio</td></tr>\n",
    "<tr><td>Jupyter Notebook</td></tr>\n",
    "</table>"
   ],
   "id": "308db180929d2dd1"
  },
  {
   "metadata": {},
   "cell_type": "markdown",
   "source": [
    "### Below are a few examples of evaluating arithmetic expressions in Python\n",
    "\n",
    "#### x = \"2 + 3\"\n",
    "####  result = eval(x)\n",
    "####  print(x)\n",
    "\n",
    "####  x = \"2 * 3\"\n",
    "####  result = eval(x)\n",
    "####  print(x)"
   ],
   "id": "662b6c7b2a173730"
  },
  {
   "metadata": {
    "ExecuteTime": {
     "end_time": "2025-05-19T02:40:38.729766Z",
     "start_time": "2025-05-19T02:40:38.723475Z"
    }
   },
   "cell_type": "code",
   "source": [
    "#This a simple arithmetic expression to multiply then add integers.\n",
    "result = (3*4)+5\n",
    "print(result)"
   ],
   "id": "49b8228cc5497b72",
   "outputs": [
    {
     "name": "stdout",
     "output_type": "stream",
     "text": [
      "17\n"
     ]
    }
   ],
   "execution_count": 2
  },
  {
   "metadata": {
    "ExecuteTime": {
     "end_time": "2025-05-19T02:44:14.421695Z",
     "start_time": "2025-05-19T02:44:14.417199Z"
    }
   },
   "cell_type": "code",
   "source": [
    "#This will convert 200 minutes to hours by diving by 60\n",
    "minutes = 200\n",
    "hours = minutes/60\n",
    "print(str(minutes) + \" minutes is \" + str(round(hours,3)) + \" hours.\")"
   ],
   "id": "6ece1d0e2cf94045",
   "outputs": [
    {
     "name": "stdout",
     "output_type": "stream",
     "text": [
      "200 minutes is 3.333 hours.\n"
     ]
    }
   ],
   "execution_count": 5
  },
  {
   "metadata": {},
   "cell_type": "markdown",
   "source": [
    "# Objectives:\n",
    "\n",
    "### List popular languages for Data Science\n",
    "<ol>\n",
    "<li>Python</li>\n",
    "<li>R</li>\n",
    "<li>Julia</li>\n",
    "<li>Java</li>\n",
    "<li>SQL</li>\n",
    "</ol>"
   ],
   "id": "866868567f44aaa0"
  },
  {
   "metadata": {},
   "cell_type": "markdown",
   "source": "## Author : Brent Neef",
   "id": "17e6d2b2fffce020"
  }
 ],
 "metadata": {
  "kernelspec": {
   "display_name": "Python 3",
   "language": "python",
   "name": "python3"
  },
  "language_info": {
   "codemirror_mode": {
    "name": "ipython",
    "version": 2
   },
   "file_extension": ".py",
   "mimetype": "text/x-python",
   "name": "python",
   "nbconvert_exporter": "python",
   "pygments_lexer": "ipython2",
   "version": "2.7.6"
  }
 },
 "nbformat": 4,
 "nbformat_minor": 5
}
